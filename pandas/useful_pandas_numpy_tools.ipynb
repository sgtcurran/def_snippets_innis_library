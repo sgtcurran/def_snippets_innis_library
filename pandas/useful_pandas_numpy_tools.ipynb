{
 "cells": [
  {
   "cell_type": "markdown",
   "metadata": {},
   "source": [
    "## Useful Pandas & Numpy tools\n"
   ]
  },
  {
   "cell_type": "markdown",
   "metadata": {},
   "source": [
    "## tabulate - conda install tabulate or pip install tabulate\n",
    "\n",
    "# https://github.com/astanin/python-tabulate\n"
   ]
  },
  {
   "cell_type": "markdown",
   "metadata": {},
   "source": [
    "# tabulate, which takes a list of lists or another tabular data type as the first argument, and outputs a nicely formatted plain-text table\n",
    "\n",
    "# The following tabular data types are supported:\n",
    "\n",
    "     list of lists or another iterable of iterables\n",
    "     list or another iterable of dicts (keys as columns)\n",
    "     dict of iterables (keys as columns)\n",
    "     two-dimensional NumPy array\n",
    "     NumPy record arrays (names as columns)\n",
    "     pandas.DataFrame\n"
   ]
  },
  {
   "cell_type": "markdown",
   "metadata": {},
   "source": [
    "# Table format\n",
    "\n",
    "There is more than one way to format a table in plain text. The third optional argument named tablefmt defines how the table is formatted.\n",
    "\n",
    "Supported table formats are:\n",
    "\n",
    "    \"plain\"\n",
    "    \"simple\"\n",
    "    \"github\"\n",
    "    \"grid\"\n",
    "    \"fancy_grid\"\n",
    "    \"pipe\"\n",
    "    \"orgtbl\"\n",
    "    \"jira\"\n",
    "    \"presto\"\n",
    "    \"pretty\"\n",
    "    \"psql\"\n",
    "    \"rst\"\n",
    "    \"mediawiki\"\n",
    "    \"moinmoin\"\n",
    "    \"youtrack\"\n",
    "    \"html\"\n",
    "    \"unsafehtml\"\n",
    "    \"latex\"\n",
    "    \"latex_raw\"\n",
    "    \"latex_booktabs\"\n",
    "    \"latex_longtable\"\n",
    "    \"textile\"\n",
    "    \"tsv\"\n"
   ]
  },
  {
   "cell_type": "markdown",
   "metadata": {},
   "source": [
    "## example"
   ]
  },
  {
   "cell_type": "code",
   "execution_count": null,
   "metadata": {},
   "outputs": [],
   "source": [
    "from tabulate import tabulate\n",
    "from pydataset import data\n",
    "\n",
    "mpg = data('mpg')\n",
    "print(tabulate(mpg, headers = 'keys', tablefmt = 'psql'))\n"
   ]
  }
 ],
 "metadata": {
  "interpreter": {
   "hash": "d4254dfede92ed85b1e7effbb0ae0c06b8ef5710a6a6be3bdd84af0ac16bdfc5"
  },
  "kernelspec": {
   "display_name": "Python 3.9.10 ('codeup')",
   "language": "python",
   "name": "python3"
  },
  "language_info": {
   "codemirror_mode": {
    "name": "ipython",
    "version": 3
   },
   "file_extension": ".py",
   "mimetype": "text/x-python",
   "name": "python",
   "nbconvert_exporter": "python",
   "pygments_lexer": "ipython3",
   "version": "3.9.10"
  },
  "orig_nbformat": 4
 },
 "nbformat": 4,
 "nbformat_minor": 2
}
